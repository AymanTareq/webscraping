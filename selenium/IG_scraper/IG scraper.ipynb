{
 "cells": [
  {
   "cell_type": "code",
   "execution_count": 5,
   "metadata": {
    "collapsed": true
   },
   "outputs": [],
   "source": [
    "from selenium import webdriver\n",
    "from selenium.webdriver.common.keys import Keys\n",
    "from selenium.webdriver.support import expected_conditions as EC\n",
    "from selenium.webdriver.common.by import By\n",
    "from selenium.webdriver.support.wait import WebDriverWait"
   ]
  },
  {
   "cell_type": "code",
   "execution_count": 10,
   "metadata": {
    "collapsed": true
   },
   "outputs": [],
   "source": [
    "import os\n",
    "import wget"
   ]
  },
  {
   "cell_type": "code",
   "execution_count": 8,
   "metadata": {
    "collapsed": true
   },
   "outputs": [
    {
     "name": "stdout",
     "output_type": "stream",
     "text": [
      "Collecting wget\n",
      "  Downloading wget-3.2.zip (10 kB)\n",
      "Building wheels for collected packages: wget\n",
      "  Building wheel for wget (setup.py) ... \u001b[?25ldone\n",
      "\u001b[?25h  Created wheel for wget: filename=wget-3.2-py3-none-any.whl size=9681 sha256=96f7271ef4410a30edf3274342ef8b6887ec8e47949d5d97c6df73ec4a3eb39b\n",
      "  Stored in directory: /home/tareq/.cache/pip/wheels/bd/a8/c3/3cf2c14a1837a4e04bd98631724e81f33f462d86a1d895fae0\n",
      "Successfully built wget\n",
      "Installing collected packages: wget\n",
      "Successfully installed wget-3.2\n"
     ]
    }
   ],
   "source": [
    "!pip install wget"
   ]
  },
  {
   "cell_type": "code",
   "execution_count": 16,
   "metadata": {
    "collapsed": true
   },
   "outputs": [],
   "source": [
    "driver = webdriver.Chrome('/home/tareq/chromedriver_linux64/chromedriver')\n",
    "driver.get('https://www.instagram.com/accounts/login/')"
   ]
  },
  {
   "cell_type": "code",
   "execution_count": null,
   "metadata": {},
   "outputs": [],
   "source": []
  },
  {
   "cell_type": "code",
   "execution_count": null,
   "metadata": {},
   "outputs": [],
   "source": []
  },
  {
   "cell_type": "code",
   "execution_count": 18,
   "metadata": {
    "collapsed": true
   },
   "outputs": [],
   "source": [
    "username = WebDriverWait(driver, 10).until(EC.element_to_be_clickable((By.CSS_SELECTOR, \"input[name='username']\")))\n",
    "password = WebDriverWait(driver, 10).until(EC.element_to_be_clickable((By.CSS_SELECTOR, \"input[name='password']\")))\n",
    "\n",
    "username.clear()\n",
    "password.clear()\n",
    "username.send_keys(\"arif9h22\")\n",
    "password.send_keys(\"abdullah\")"
   ]
  },
  {
   "cell_type": "code",
   "execution_count": 19,
   "metadata": {
    "collapsed": true
   },
   "outputs": [],
   "source": [
    "log_in = WebDriverWait(driver, 10).until(EC.element_to_be_clickable((By.CSS_SELECTOR, \"button[type='submit']\"))).click()"
   ]
  },
  {
   "cell_type": "code",
   "execution_count": 21,
   "metadata": {
    "collapsed": true
   },
   "outputs": [],
   "source": [
    "not_now = WebDriverWait(driver, 10).until(EC.element_to_be_clickable((By.XPATH, \"//button[contains(text(),'Not Now')]\"))).click()"
   ]
  },
  {
   "cell_type": "code",
   "execution_count": 22,
   "metadata": {
    "collapsed": true
   },
   "outputs": [],
   "source": [
    "not_now2 = WebDriverWait(driver, 10).until(EC.element_to_be_clickable((By.XPATH, \"//button[contains(text(),'Not Now')]\"))).click()"
   ]
  },
  {
   "cell_type": "code",
   "execution_count": 23,
   "metadata": {
    "collapsed": true
   },
   "outputs": [],
   "source": [
    "search_box = WebDriverWait(driver, 10).until(EC.element_to_be_clickable((By.XPATH, \"//input[@placeholder='Search']\")))\n",
    "search_box.clear()\n",
    "\n",
    "keyword = \"#cat\"\n",
    "search_box.send_keys(keyword)\n"
   ]
  },
  {
   "cell_type": "code",
   "execution_count": 24,
   "metadata": {
    "collapsed": true
   },
   "outputs": [],
   "source": [
    "search_box.send_keys(Keys.ENTER)"
   ]
  },
  {
   "cell_type": "code",
   "execution_count": 27,
   "metadata": {
    "collapsed": true
   },
   "outputs": [],
   "source": [
    "driver.execute_script(\"window.scrollTo(0,5000);\")"
   ]
  },
  {
   "cell_type": "code",
   "execution_count": 28,
   "metadata": {
    "collapsed": true
   },
   "outputs": [
    {
     "data": {
      "text/plain": [
       "[<selenium.webdriver.remote.webelement.WebElement (session=\"8f43a06d818ce5ed4744afe9de826065\", element=\"cd0f6c73-4635-4d24-893d-4bc5478e6bc6\")>,\n",
       " <selenium.webdriver.remote.webelement.WebElement (session=\"8f43a06d818ce5ed4744afe9de826065\", element=\"78ad37af-83c0-439d-b841-88834bda9022\")>,\n",
       " <selenium.webdriver.remote.webelement.WebElement (session=\"8f43a06d818ce5ed4744afe9de826065\", element=\"add7856c-a3a0-40a7-aeef-a2fd416b4123\")>,\n",
       " <selenium.webdriver.remote.webelement.WebElement (session=\"8f43a06d818ce5ed4744afe9de826065\", element=\"7e417d50-5d8c-429a-af49-c1b62e11243b\")>,\n",
       " <selenium.webdriver.remote.webelement.WebElement (session=\"8f43a06d818ce5ed4744afe9de826065\", element=\"c66f29ba-95e6-4e15-b319-3c5a437c7255\")>,\n",
       " <selenium.webdriver.remote.webelement.WebElement (session=\"8f43a06d818ce5ed4744afe9de826065\", element=\"813052ee-5dd0-4c31-9dd8-224cbdbd83b9\")>,\n",
       " <selenium.webdriver.remote.webelement.WebElement (session=\"8f43a06d818ce5ed4744afe9de826065\", element=\"f94f13a0-c8f7-4b04-bc86-3c1f92590831\")>,\n",
       " <selenium.webdriver.remote.webelement.WebElement (session=\"8f43a06d818ce5ed4744afe9de826065\", element=\"3016d32a-9c92-4c85-aca2-7d48ec7371ef\")>,\n",
       " <selenium.webdriver.remote.webelement.WebElement (session=\"8f43a06d818ce5ed4744afe9de826065\", element=\"a666d071-9832-4de1-87d0-476e7feca84d\")>,\n",
       " <selenium.webdriver.remote.webelement.WebElement (session=\"8f43a06d818ce5ed4744afe9de826065\", element=\"b66b6e94-1932-4801-8630-d39f9f101bd2\")>,\n",
       " <selenium.webdriver.remote.webelement.WebElement (session=\"8f43a06d818ce5ed4744afe9de826065\", element=\"90731439-1dde-4953-8281-5a59ca6097ea\")>,\n",
       " <selenium.webdriver.remote.webelement.WebElement (session=\"8f43a06d818ce5ed4744afe9de826065\", element=\"3ec9f8d2-0240-48fe-b4bb-57bf57e25164\")>,\n",
       " <selenium.webdriver.remote.webelement.WebElement (session=\"8f43a06d818ce5ed4744afe9de826065\", element=\"d5f1cafc-48a0-4c0e-bd82-bbf21a809a2b\")>,\n",
       " <selenium.webdriver.remote.webelement.WebElement (session=\"8f43a06d818ce5ed4744afe9de826065\", element=\"1e13fb42-7a98-4219-962b-ebdc6aaa26d9\")>,\n",
       " <selenium.webdriver.remote.webelement.WebElement (session=\"8f43a06d818ce5ed4744afe9de826065\", element=\"66931c07-d9af-4b3b-80a2-0d7a18e62055\")>,\n",
       " <selenium.webdriver.remote.webelement.WebElement (session=\"8f43a06d818ce5ed4744afe9de826065\", element=\"13997da4-18c5-44e6-a3b0-4792c383b04b\")>,\n",
       " <selenium.webdriver.remote.webelement.WebElement (session=\"8f43a06d818ce5ed4744afe9de826065\", element=\"94e6b3bc-5b9d-49a8-ab02-2c3a64b0cf31\")>,\n",
       " <selenium.webdriver.remote.webelement.WebElement (session=\"8f43a06d818ce5ed4744afe9de826065\", element=\"ad4433aa-c382-44c7-aa06-a2328f431af5\")>,\n",
       " <selenium.webdriver.remote.webelement.WebElement (session=\"8f43a06d818ce5ed4744afe9de826065\", element=\"5869ecb3-eed5-4752-a573-d1c72ce7202b\")>,\n",
       " <selenium.webdriver.remote.webelement.WebElement (session=\"8f43a06d818ce5ed4744afe9de826065\", element=\"d290bcd2-f7b9-4d94-affe-e2fa092f9056\")>,\n",
       " <selenium.webdriver.remote.webelement.WebElement (session=\"8f43a06d818ce5ed4744afe9de826065\", element=\"829e5579-148f-4ae7-8bd1-da1bef5aaf23\")>,\n",
       " <selenium.webdriver.remote.webelement.WebElement (session=\"8f43a06d818ce5ed4744afe9de826065\", element=\"6fe08ab9-7aa5-45ea-ac21-e3c277124297\")>,\n",
       " <selenium.webdriver.remote.webelement.WebElement (session=\"8f43a06d818ce5ed4744afe9de826065\", element=\"5c68147b-f399-44c1-9b93-59f1cfdc2635\")>,\n",
       " <selenium.webdriver.remote.webelement.WebElement (session=\"8f43a06d818ce5ed4744afe9de826065\", element=\"f7542784-00ba-4777-9619-4cecbd1ede81\")>,\n",
       " <selenium.webdriver.remote.webelement.WebElement (session=\"8f43a06d818ce5ed4744afe9de826065\", element=\"d479e4c5-b9f7-424a-9527-74de1ad4dc23\")>,\n",
       " <selenium.webdriver.remote.webelement.WebElement (session=\"8f43a06d818ce5ed4744afe9de826065\", element=\"ce8ecb7a-7cb5-4829-b5f0-86cce39b62a5\")>,\n",
       " <selenium.webdriver.remote.webelement.WebElement (session=\"8f43a06d818ce5ed4744afe9de826065\", element=\"8c9157a6-0892-4b6e-8911-c11d477722a0\")>,\n",
       " <selenium.webdriver.remote.webelement.WebElement (session=\"8f43a06d818ce5ed4744afe9de826065\", element=\"ebe38284-1841-42fb-9f80-4d2bb1c3789a\")>,\n",
       " <selenium.webdriver.remote.webelement.WebElement (session=\"8f43a06d818ce5ed4744afe9de826065\", element=\"b113e722-5363-494f-844f-04bdc5b34a88\")>,\n",
       " <selenium.webdriver.remote.webelement.WebElement (session=\"8f43a06d818ce5ed4744afe9de826065\", element=\"7e013f25-47de-473c-8b2d-eeb73bafbe34\")>,\n",
       " <selenium.webdriver.remote.webelement.WebElement (session=\"8f43a06d818ce5ed4744afe9de826065\", element=\"40286124-f4c5-436a-90a9-46ba4d773979\")>,\n",
       " <selenium.webdriver.remote.webelement.WebElement (session=\"8f43a06d818ce5ed4744afe9de826065\", element=\"f280bf93-f257-4c88-a334-0af4f5a7fe4e\")>,\n",
       " <selenium.webdriver.remote.webelement.WebElement (session=\"8f43a06d818ce5ed4744afe9de826065\", element=\"ffd9aac0-04ce-472e-95ce-714c9d47fad7\")>,\n",
       " <selenium.webdriver.remote.webelement.WebElement (session=\"8f43a06d818ce5ed4744afe9de826065\", element=\"4e431381-a621-473d-8019-b273079d0945\")>,\n",
       " <selenium.webdriver.remote.webelement.WebElement (session=\"8f43a06d818ce5ed4744afe9de826065\", element=\"e56d7fd4-b59c-4377-a755-38bb78782932\")>,\n",
       " <selenium.webdriver.remote.webelement.WebElement (session=\"8f43a06d818ce5ed4744afe9de826065\", element=\"63ac853b-5e36-47af-9faa-74fa2e15c7c4\")>,\n",
       " <selenium.webdriver.remote.webelement.WebElement (session=\"8f43a06d818ce5ed4744afe9de826065\", element=\"05aa9fb8-9a33-4a5f-91c7-b4a02eca115f\")>,\n",
       " <selenium.webdriver.remote.webelement.WebElement (session=\"8f43a06d818ce5ed4744afe9de826065\", element=\"d5cd84cc-3b62-43a4-8459-3eeeef5c87ca\")>,\n",
       " <selenium.webdriver.remote.webelement.WebElement (session=\"8f43a06d818ce5ed4744afe9de826065\", element=\"6a42e36c-2de6-4108-b009-06ea4758ce25\")>,\n",
       " <selenium.webdriver.remote.webelement.WebElement (session=\"8f43a06d818ce5ed4744afe9de826065\", element=\"566253f1-cc2e-4a2b-8a53-b48fbde55446\")>,\n",
       " <selenium.webdriver.remote.webelement.WebElement (session=\"8f43a06d818ce5ed4744afe9de826065\", element=\"15a10483-a69f-4977-b42c-72fc7a870e7e\")>,\n",
       " <selenium.webdriver.remote.webelement.WebElement (session=\"8f43a06d818ce5ed4744afe9de826065\", element=\"372e3fb6-1dfd-444a-ba27-ce7d6b622ff5\")>,\n",
       " <selenium.webdriver.remote.webelement.WebElement (session=\"8f43a06d818ce5ed4744afe9de826065\", element=\"d41bb8b1-4c63-4f23-b131-88607a210ac9\")>,\n",
       " <selenium.webdriver.remote.webelement.WebElement (session=\"8f43a06d818ce5ed4744afe9de826065\", element=\"f1bd4a8c-1599-49af-b339-3155b9baffe2\")>,\n",
       " <selenium.webdriver.remote.webelement.WebElement (session=\"8f43a06d818ce5ed4744afe9de826065\", element=\"86436579-ed32-4138-b189-e491f1ea0cea\")>,\n",
       " <selenium.webdriver.remote.webelement.WebElement (session=\"8f43a06d818ce5ed4744afe9de826065\", element=\"02889e9f-db77-4bcb-ab33-32d7cbdca446\")>,\n",
       " <selenium.webdriver.remote.webelement.WebElement (session=\"8f43a06d818ce5ed4744afe9de826065\", element=\"e949bc01-7578-4690-87d9-e042bef80995\")>,\n",
       " <selenium.webdriver.remote.webelement.WebElement (session=\"8f43a06d818ce5ed4744afe9de826065\", element=\"f540492e-6fb0-48c4-a1af-2c0c06be1ddc\")>,\n",
       " <selenium.webdriver.remote.webelement.WebElement (session=\"8f43a06d818ce5ed4744afe9de826065\", element=\"40ad8460-eb91-47c9-a404-95efa1783505\")>,\n",
       " <selenium.webdriver.remote.webelement.WebElement (session=\"8f43a06d818ce5ed4744afe9de826065\", element=\"1a0a9ebe-cf9d-4619-8ac1-28dc4dfc66fb\")>,\n",
       " <selenium.webdriver.remote.webelement.WebElement (session=\"8f43a06d818ce5ed4744afe9de826065\", element=\"afbd9669-9b93-44b2-9b3e-afa20f2afa6c\")>,\n",
       " <selenium.webdriver.remote.webelement.WebElement (session=\"8f43a06d818ce5ed4744afe9de826065\", element=\"85a5cdea-d8e2-49fe-afb2-14cf8688d542\")>,\n",
       " <selenium.webdriver.remote.webelement.WebElement (session=\"8f43a06d818ce5ed4744afe9de826065\", element=\"56b89fe1-1bff-4da3-a1a8-5077e3bcdea7\")>,\n",
       " <selenium.webdriver.remote.webelement.WebElement (session=\"8f43a06d818ce5ed4744afe9de826065\", element=\"404937b1-3997-4dd8-beb5-1b3ed39d4920\")>,\n",
       " <selenium.webdriver.remote.webelement.WebElement (session=\"8f43a06d818ce5ed4744afe9de826065\", element=\"c95c60cc-76d3-4ffd-94e5-081d7eb355b9\")>,\n",
       " <selenium.webdriver.remote.webelement.WebElement (session=\"8f43a06d818ce5ed4744afe9de826065\", element=\"6d9f12c0-430a-4a32-b271-f1264649e9ec\")>,\n",
       " <selenium.webdriver.remote.webelement.WebElement (session=\"8f43a06d818ce5ed4744afe9de826065\", element=\"af50b5e6-1bb5-47d0-af3b-939950839f58\")>,\n",
       " <selenium.webdriver.remote.webelement.WebElement (session=\"8f43a06d818ce5ed4744afe9de826065\", element=\"be99261a-c432-4918-9e85-ccb98a878e08\")>,\n",
       " <selenium.webdriver.remote.webelement.WebElement (session=\"8f43a06d818ce5ed4744afe9de826065\", element=\"100d126a-4ea7-42d3-8915-f5f3e9eb4d1c\")>,\n",
       " <selenium.webdriver.remote.webelement.WebElement (session=\"8f43a06d818ce5ed4744afe9de826065\", element=\"09ec332b-f0e3-4c04-b7ed-d2927b2267ff\")>,\n",
       " <selenium.webdriver.remote.webelement.WebElement (session=\"8f43a06d818ce5ed4744afe9de826065\", element=\"9b31099a-4819-4346-872c-2bf27eb81fb4\")>,\n",
       " <selenium.webdriver.remote.webelement.WebElement (session=\"8f43a06d818ce5ed4744afe9de826065\", element=\"6c701f32-5daf-4284-852e-0b4e107dc3a2\")>,\n",
       " <selenium.webdriver.remote.webelement.WebElement (session=\"8f43a06d818ce5ed4744afe9de826065\", element=\"ee4a1408-a588-4e79-8e0d-28ed0d3c6977\")>,\n",
       " <selenium.webdriver.remote.webelement.WebElement (session=\"8f43a06d818ce5ed4744afe9de826065\", element=\"8a4fa622-2999-4499-b514-3b51ff3f9c58\")>,\n",
       " <selenium.webdriver.remote.webelement.WebElement (session=\"8f43a06d818ce5ed4744afe9de826065\", element=\"34ab37d1-ebcb-4484-b844-70fb1539be2b\")>,\n",
       " <selenium.webdriver.remote.webelement.WebElement (session=\"8f43a06d818ce5ed4744afe9de826065\", element=\"60ff61e6-d9a4-4c60-81ae-f0a81d07ea86\")>,\n",
       " <selenium.webdriver.remote.webelement.WebElement (session=\"8f43a06d818ce5ed4744afe9de826065\", element=\"b0cfd281-7c2c-4539-9ee9-ad0f0fd8ed86\")>,\n",
       " <selenium.webdriver.remote.webelement.WebElement (session=\"8f43a06d818ce5ed4744afe9de826065\", element=\"829c19e8-5b4f-43d9-9f4c-23e11acfc6a8\")>,\n",
       " <selenium.webdriver.remote.webelement.WebElement (session=\"8f43a06d818ce5ed4744afe9de826065\", element=\"2139ce16-5f43-40d1-af7d-ab1308e52069\")>,\n",
       " <selenium.webdriver.remote.webelement.WebElement (session=\"8f43a06d818ce5ed4744afe9de826065\", element=\"8108a171-8a1c-47b3-a243-b08409f2d9f0\")>,\n",
       " <selenium.webdriver.remote.webelement.WebElement (session=\"8f43a06d818ce5ed4744afe9de826065\", element=\"c78f9baa-cdab-48bf-ba63-96d935fd3944\")>,\n",
       " <selenium.webdriver.remote.webelement.WebElement (session=\"8f43a06d818ce5ed4744afe9de826065\", element=\"c59159d6-2781-478b-94c9-064df033a3d5\")>]"
      ]
     },
     "execution_count": 28,
     "metadata": {},
     "output_type": "execute_result"
    }
   ],
   "source": [
    "images = driver.find_elements_by_tag_name('img')\n",
    "\n",
    "images"
   ]
  },
  {
   "cell_type": "code",
   "execution_count": 29,
   "metadata": {
    "collapsed": true
   },
   "outputs": [
    {
     "data": {
      "text/plain": [
       "['https://instagram.fdac27-1.fna.fbcdn.net/v/t51.2885-15/e35/179373295_757726494944380_1542240429590019353_n.jpg?tp=1&_nc_ht=instagram.fdac27-1.fna.fbcdn.net&_nc_cat=104&_nc_ohc=oK8Lf4FOyPcAX_q4lQC&edm=ABZsPhsBAAAA&ccb=7-4&oh=fb8b157fea869d38ef360426f351c1c6&oe=60B1A720&_nc_sid=4efc9f&ig_cache_key=MjU2MjUxNzIwNTc0MzE1NDY2Mw%3D%3D.2-ccb7-4',\n",
       " 'https://instagram.fdac27-1.fna.fbcdn.net/v/t51.2885-15/e35/c4.0.710.710a/179464514_966229337486376_4503130219587069553_n.jpg?tp=1&_nc_ht=instagram.fdac27-1.fna.fbcdn.net&_nc_cat=100&_nc_ohc=8uLcE8nyLyAAX__XjIQ&edm=ABZsPhsBAAAA&ccb=7-4&oh=86228746507c4512b788b465b0222af8&oe=60AF0F13&_nc_sid=4efc9f&ig_cache_key=MjU2MjUxMTk4MDIxMDc5ODI0NA%3D%3D.2-ccb7-4',\n",
       " 'https://instagram.fdac27-1.fna.fbcdn.net/v/t51.2885-15/e35/179245282_203338671378467_6640576907272701488_n.jpg?tp=1&_nc_ht=instagram.fdac27-1.fna.fbcdn.net&_nc_cat=111&_nc_ohc=fUEOWAxqBWIAX-NQWdn&edm=ABZsPhsBAAAA&ccb=7-4&oh=23ef66d80306d0f152525b15f2d66be0&oe=60AF7833&_nc_sid=4efc9f&ig_cache_key=MjU2MjUwNjMxMTQzMjcyMDMzNQ%3D%3D.2-ccb7-4',\n",
       " 'https://instagram.fdac27-1.fna.fbcdn.net/v/t51.2885-15/e35/178456124_239458507932879_4726874858579847743_n.jpg?tp=1&_nc_ht=instagram.fdac27-1.fna.fbcdn.net&_nc_cat=103&_nc_ohc=L2oITrEeaTUAX_hcFYO&edm=ABZsPhsBAAAA&ccb=7-4&oh=ecbff912f13ffff6ee04d243c28fcc7a&oe=60AFD652&_nc_sid=4efc9f&ig_cache_key=MjU2MjUxNDI1OTEyNTU3Nzc3Mg%3D%3D.2-ccb7-4',\n",
       " 'https://instagram.fdac27-1.fna.fbcdn.net/v/t51.2885-15/e35/180010405_214013700159336_7266168268824639635_n.jpg?tp=1&_nc_ht=instagram.fdac27-1.fna.fbcdn.net&_nc_cat=100&_nc_ohc=fPJRuJxwJOIAX-dhtcs&edm=ABZsPhsBAAAA&ccb=7-4&oh=c500619b4d4f329b6e568a2fc5caf399&oe=60B03349&_nc_sid=4efc9f&ig_cache_key=MjU2MjQ2MzU2MjMyMTQ4MjYxNw%3D%3D.2-ccb7-4',\n",
       " 'https://instagram.fdac27-1.fna.fbcdn.net/v/t51.2885-15/e35/178753276_229620098957179_5907381142273162539_n.jpg?tp=1&_nc_ht=instagram.fdac27-1.fna.fbcdn.net&_nc_cat=107&_nc_ohc=6m2eYg3P-6EAX__lMrR&edm=ABZsPhsBAAAA&ccb=7-4&oh=710f94b9fb138c2343b057b58e594451&oe=60AFED89&_nc_sid=4efc9f&ig_cache_key=MjU2MjQ3MzkwMDI3NDIzNjEwMA%3D%3D.2-ccb7-4',\n",
       " 'https://instagram.fdac27-1.fna.fbcdn.net/v/t51.2885-15/e35/179409203_193829179247792_9146959976688721126_n.jpg?tp=1&_nc_ht=instagram.fdac27-1.fna.fbcdn.net&_nc_cat=108&_nc_ohc=ubCeJ2YEFHgAX9EZVhx&edm=ABZsPhsBAAAA&ccb=7-4&oh=94b0623aac0e208ec83cb73ee238fd2e&oe=60B03178&_nc_sid=4efc9f&ig_cache_key=MjU2MjQ4NDg3NDk1NzM3MTk2NQ%3D%3D.2-ccb7-4',\n",
       " 'https://instagram.fdac27-1.fna.fbcdn.net/v/t51.2885-15/e35/c0.117.937.937a/179851289_459507208450319_3318368703637982746_n.jpg?tp=1&_nc_ht=instagram.fdac27-1.fna.fbcdn.net&_nc_cat=111&_nc_ohc=M6oW--Zk88cAX_ATXV2&edm=ABZsPhsBAAAA&ccb=7-4&oh=7e403dac8a2cc9cc5c3961018ca284de&oe=60B06D4D&_nc_sid=4efc9f&ig_cache_key=MjU2MjQ5MTUwNjY0NjkwMzkzMQ%3D%3D.2-ccb7-4',\n",
       " 'https://instagram.fdac27-1.fna.fbcdn.net/v/t51.2885-15/e35/179504511_930270344373587_9112546942372206959_n.jpg?tp=1&_nc_ht=instagram.fdac27-1.fna.fbcdn.net&_nc_cat=111&_nc_ohc=XNZHALQD89sAX8Owj04&edm=ABZsPhsBAAAA&ccb=7-4&oh=3784a39240c575b11285f702eb3269bb&oe=60AEDB8E&_nc_sid=4efc9f&ig_cache_key=MjU2MjQ4MDY0MTk4OTg2MDIxMw%3D%3D.2-ccb7-4',\n",
       " 'https://instagram.fdac27-1.fna.fbcdn.net/v/t51.2885-15/e35/179226671_932202667575683_8010531673350165863_n.jpg?tp=1&_nc_ht=instagram.fdac27-1.fna.fbcdn.net&_nc_cat=111&_nc_ohc=0l2FImxu4l8AX93m4LE&edm=ABZsPhsBAAAA&ccb=7-4&oh=3fea4c51163f1c2d5e53781bb671e66b&oe=60B125CC&_nc_sid=4efc9f&ig_cache_key=MjU2MjM5NDA2MDA2MzM1MzU4MQ%3D%3D.2-ccb7-4',\n",
       " 'https://instagram.fdac27-1.fna.fbcdn.net/v/t51.2885-15/e35/179329555_301634821585390_2433962480084009213_n.jpg?tp=1&_nc_ht=instagram.fdac27-1.fna.fbcdn.net&_nc_cat=110&_nc_ohc=in2Z9jsuELwAX8r7Rd4&edm=ABZsPhsBAAAA&ccb=7-4&oh=83a442fc13e750fc993974e03d64fbdc&oe=60AEE6E1&_nc_sid=4efc9f&ig_cache_key=MjU2MjUxMTEwMzIyMjcxMzg5Nw%3D%3D.2-ccb7-4',\n",
       " 'https://instagram.fdac27-1.fna.fbcdn.net/v/t51.2885-15/e35/178134080_491247642071955_2647324883951314418_n.jpg?tp=1&_nc_ht=instagram.fdac27-1.fna.fbcdn.net&_nc_cat=103&_nc_ohc=RFyl2vky6RQAX85UxTI&edm=ABZsPhsBAAAA&ccb=7-4&oh=257723460a72ce88ee97ff1f002c3d54&oe=60AEDDFC&_nc_sid=4efc9f&ig_cache_key=MjU2MjQ2OTM2NTczODI4NTU2MA%3D%3D.2-ccb7-4',\n",
       " 'https://instagram.fdac27-1.fna.fbcdn.net/v/t51.2885-15/e35/179584063_786492042293586_2466299321297405072_n.jpg?tp=1&_nc_ht=instagram.fdac27-1.fna.fbcdn.net&_nc_cat=106&_nc_ohc=JrFO8Ebe7IIAX_IPMBt&edm=ABZsPhsBAAAA&ccb=7-4&oh=79b2c659e1bc81440e3bd6b0f16f13a4&oe=60B0771D&_nc_sid=4efc9f&ig_cache_key=MjU2MjQzNjI3OTY4NDA3NjAyNg%3D%3D.2-ccb7-4',\n",
       " 'https://instagram.fdac27-1.fna.fbcdn.net/v/t51.2885-15/e35/180329088_489720378892812_8419547255033738159_n.jpg?tp=1&_nc_ht=instagram.fdac27-1.fna.fbcdn.net&_nc_cat=100&_nc_ohc=cevqwPJp4yIAX9e-q9I&edm=ABZsPhsBAAAA&ccb=7-4&oh=edc5349ef980eaada0460d512f162b95&oe=60B03D4A&_nc_sid=4efc9f&ig_cache_key=MjU2MjQ3ODcyODEyMDQzNzE4OQ%3D%3D.2-ccb7-4',\n",
       " 'https://instagram.fdac27-1.fna.fbcdn.net/v/t51.2885-15/e35/178582885_535137480836760_6529415495263099793_n.jpg?tp=1&_nc_ht=instagram.fdac27-1.fna.fbcdn.net&_nc_cat=100&_nc_ohc=pZz9EwM3hpUAX-KcG0s&edm=ABZsPhsBAAAA&ccb=7-4&oh=bbd35fa3fa95fd7001512741fe54a3ca&oe=60AF5B5A&_nc_sid=4efc9f&ig_cache_key=MjU2MjQyNTMyNjY0NTI2NTYwMg%3D%3D.2-ccb7-4',\n",
       " 'https://instagram.fdac27-1.fna.fbcdn.net/v/t51.2885-15/e35/178491350_745461989431369_5790668258114760464_n.jpg?tp=1&_nc_ht=instagram.fdac27-1.fna.fbcdn.net&_nc_cat=1&_nc_ohc=gn70j6C1KLYAX-j-1NK&edm=ABZsPhsBAAAA&ccb=7-4&oh=4e30e5ce83a03b34455c5d8b5837c298&oe=60AFAE6D&_nc_sid=4efc9f&ig_cache_key=MjU2MjU2MjI2MzA1NDAyMTI0Nw%3D%3D.2-ccb7-4',\n",
       " 'https://instagram.fdac27-1.fna.fbcdn.net/v/t51.2885-15/e35/178508733_790952968225249_7675028508160591305_n.jpg?tp=1&_nc_ht=instagram.fdac27-1.fna.fbcdn.net&_nc_cat=101&_nc_ohc=jMYv9VailPQAX_G6g9z&edm=ABZsPhsBAAAA&ccb=7-4&oh=27541d0f33cbce7ef626991821010ea3&oe=60AE6473&_nc_sid=4efc9f&ig_cache_key=MjU2MjQ1NDE3MzExMzU0NzAwOQ%3D%3D.2-ccb7-4',\n",
       " 'https://instagram.fdac27-1.fna.fbcdn.net/v/t51.2885-15/e35/169610583_1113676692431673_6028534170060449028_n.jpg?tp=1&_nc_ht=instagram.fdac27-1.fna.fbcdn.net&_nc_cat=109&_nc_ohc=D9R4qXyZ1ncAX_ll4PG&edm=ABZsPhsBAAAA&ccb=7-4&oh=f65f824cb1dc4a9b881c153e49ade190&oe=60B0EB8F&_nc_sid=4efc9f&ig_cache_key=MjU2MjUxMDM4MDczODE1NzU3Nw%3D%3D.2-ccb7-4',\n",
       " 'https://instagram.fdac27-1.fna.fbcdn.net/v/t51.2885-15/e35/c0.130.1042.1042a/178946512_478025806841486_5621261418030647385_n.jpg?tp=1&_nc_ht=instagram.fdac27-1.fna.fbcdn.net&_nc_cat=102&_nc_ohc=fepRDruUDJ8AX8h3c4f&edm=ABZsPhsBAAAA&ccb=7-4&oh=a553d8644654b28a6578e1db94e1295e&oe=60B1C0C0&_nc_sid=4efc9f&ig_cache_key=MjU2MjQ1OTA5NDgxODkzMDc0Ng%3D%3D.2-ccb7-4',\n",
       " 'https://instagram.fdac27-1.fna.fbcdn.net/v/t51.2885-15/e35/179318776_206838997655836_2712319048028723683_n.jpg?tp=1&_nc_ht=instagram.fdac27-1.fna.fbcdn.net&_nc_cat=104&_nc_ohc=otpAoAe5uF8AX-Q8xCi&edm=ABZsPhsBAAAA&ccb=7-4&oh=b68fa5ba401aca5d53a6eae3a27382ed&oe=60AF2A90&_nc_sid=4efc9f&ig_cache_key=MjU2MjUzMjY2MjAxMTQ4NzI4MA%3D%3D.2-ccb7-4',\n",
       " 'https://instagram.fdac27-1.fna.fbcdn.net/v/t51.2885-15/e35/179326220_4503684436317338_1973959639150161520_n.jpg?tp=1&_nc_ht=instagram.fdac27-1.fna.fbcdn.net&_nc_cat=102&_nc_ohc=Bg1wR0a6_eYAX_GrJla&edm=ABZsPhsBAAAA&ccb=7-4&oh=9a690f98f4e8c5b4afa608e6863fa7ee&oe=60AF6692&_nc_sid=4efc9f&ig_cache_key=MjU2MjQ0NzI1NTk5MjY3NTY3Mg%3D%3D.2-ccb7-4',\n",
       " 'https://instagram.fdac27-1.fna.fbcdn.net/v/t51.2885-15/e35/180333244_317546399718568_8985686681613675157_n.jpg?tp=1&_nc_ht=instagram.fdac27-1.fna.fbcdn.net&_nc_cat=104&_nc_ohc=cIj0eYaINiUAX8z2gTg&edm=ABZsPhsBAAAA&ccb=7-4&oh=10957d36dfd78160d73b5b3fb0b691c9&oe=60AF5C36&_nc_sid=4efc9f&ig_cache_key=MjU2MjQ1NTQ5OTI4NTIyMDI1MQ%3D%3D.2-ccb7-4',\n",
       " 'https://instagram.fdac27-1.fna.fbcdn.net/v/t51.2885-15/e35/178482770_2905574549689956_797579896795928908_n.jpg?tp=1&_nc_ht=instagram.fdac27-1.fna.fbcdn.net&_nc_cat=100&_nc_ohc=dTwk6QBHIIIAX_qoKS5&edm=ABZsPhsBAAAA&ccb=7-4&oh=7cfa3e409a92e74ed7303f34b1b7d519&oe=60B19E8B&_nc_sid=4efc9f&ig_cache_key=MjU2MjQwMjE3NTE2MDM4MzM5MA%3D%3D.2-ccb7-4',\n",
       " 'https://instagram.fdac27-1.fna.fbcdn.net/v/t51.2885-15/e35/179346540_3547411508733109_7306559141686839146_n.jpg?tp=1&_nc_ht=instagram.fdac27-1.fna.fbcdn.net&_nc_cat=101&_nc_ohc=W6cOS5YJlMEAX_MDLw4&edm=ABZsPhsBAAAA&ccb=7-4&oh=ce4c0098952dd10df9835f7cd072a4fa&oe=60B1A567&_nc_sid=4efc9f&ig_cache_key=MjU2MjMxMjk5MjU4OTIxOTE3Ng%3D%3D.2-ccb7-4',\n",
       " 'https://instagram.fdac27-1.fna.fbcdn.net/v/t51.2885-15/e35/178666248_749693839052355_2392909178918887338_n.jpg?tp=1&_nc_ht=instagram.fdac27-1.fna.fbcdn.net&_nc_cat=103&_nc_ohc=zaZwL8dOrCQAX9Pdpl6&edm=ABZsPhsBAAAA&ccb=7-4&oh=4e906b82fa00fbe1b27fc526b4fcb24c&oe=60AF42EE&_nc_sid=4efc9f&ig_cache_key=MjU2MjI4NDY5MDAyOTE1OTcwMw%3D%3D.2-ccb7-4',\n",
       " 'https://instagram.fdac27-1.fna.fbcdn.net/v/t51.2885-15/e35/178645918_1177017946053438_5794144712739826201_n.jpg?tp=1&_nc_ht=instagram.fdac27-1.fna.fbcdn.net&_nc_cat=106&_nc_ohc=LqMSYKMix_IAX-YF4l0&edm=ABZsPhsBAAAA&ccb=7-4&oh=97c40ad3ff0333399bab52f7d7eba5dd&oe=60B0F511&_nc_sid=4efc9f&ig_cache_key=MjU2MjU4MTY3Mzc5NTY3Mjk1Ng%3D%3D.2-ccb7-4',\n",
       " 'https://instagram.fdac27-1.fna.fbcdn.net/v/t51.2885-15/e35/178676547_925511561568281_4531448986004761477_n.jpg?tp=1&_nc_ht=instagram.fdac27-1.fna.fbcdn.net&_nc_cat=105&_nc_ohc=6_zAMh_lZCgAX_cpUIO&edm=ABZsPhsBAAAA&ccb=7-4&oh=9f187e6146d1dca50611deb17c28cde9&oe=60B1AC1C&_nc_sid=4efc9f&ig_cache_key=MjU2MjU4MTY4NDk2OTA5NDMyNQ%3D%3D.2-ccb7-4',\n",
       " 'https://instagram.fdac27-1.fna.fbcdn.net/v/t51.2885-15/e35/c0.135.1077.1077a/178513022_476747970195153_5899587811211212780_n.jpg?tp=1&_nc_ht=instagram.fdac27-1.fna.fbcdn.net&_nc_cat=109&_nc_ohc=rgGGFaxeYH0AX94F49g&edm=ABZsPhsBAAAA&ccb=7-4&oh=2e242c7739779ed734a4170a2c81ce37&oe=60AE79B0&_nc_sid=4efc9f&ig_cache_key=MjU2MjU4MTY4Mzg4OTI1NDUxNg%3D%3D.2-ccb7-4',\n",
       " 'https://instagram.fdac27-1.fna.fbcdn.net/v/t51.2885-15/e35/178601099_1197696614020753_5123184051011361003_n.jpg?tp=1&_nc_ht=instagram.fdac27-1.fna.fbcdn.net&_nc_cat=101&_nc_ohc=hknabW6qdloAX_mazGD&edm=ABZsPhsBAAAA&ccb=7-4&oh=ebaf0224bbbabc94c09c0a3a6f5afbc8&oe=60B0B939&_nc_sid=4efc9f&ig_cache_key=MjU2MjU4MTY2MTk1MDg2Mzc1OQ%3D%3D.2-ccb7-4',\n",
       " 'https://instagram.fdac27-1.fna.fbcdn.net/v/t51.2885-15/e35/179508478_291628295838679_2876944231418024400_n.jpg?tp=1&_nc_ht=instagram.fdac27-1.fna.fbcdn.net&_nc_cat=107&_nc_ohc=Odp4yBNATmYAX874i9o&edm=ABZsPhsBAAAA&ccb=7-4&oh=baef93a2988e9bbda61b8d7c0ef5313e&oe=60AF8DA6&_nc_sid=4efc9f&ig_cache_key=MjU2MjU4MTY0NTUyNjE3ODkwMw%3D%3D.2-ccb7-4',\n",
       " 'https://instagram.fdac27-1.fna.fbcdn.net/v/t51.2885-15/e35/178553249_839901649928354_8452569849012826598_n.jpg?tp=1&_nc_ht=instagram.fdac27-1.fna.fbcdn.net&_nc_cat=102&_nc_ohc=vhQ_XCLQSRwAX_PjOPz&tn=X92A2uGKwHuFzKI2&edm=ABZsPhsBAAAA&ccb=7-4&oh=d3ecb73a5f0b02e8e21a599aed52260e&oe=60AE5D19&_nc_sid=4efc9f&ig_cache_key=MjU2MjU4MTY0MDU3OTU5ODY5Mg%3D%3D.2-ccb7-4',\n",
       " 'https://instagram.fdac27-1.fna.fbcdn.net/v/t51.2885-15/e35/179043960_529387701383490_4804895108264625868_n.jpg?tp=1&_nc_ht=instagram.fdac27-1.fna.fbcdn.net&_nc_cat=106&_nc_ohc=tI7atEaVtJAAX8bZUTr&edm=ABZsPhsBAAAA&ccb=7-4&oh=14b31995236d9a0369c0c904f9f932c6&oe=60B05391&_nc_sid=4efc9f&ig_cache_key=MjU2MjU4MTQxODMxMjc4MjM4Mg%3D%3D.2-ccb7-4',\n",
       " 'https://instagram.fdac27-1.fna.fbcdn.net/v/t51.2885-15/e35/180178101_2925936040952298_7533205892535750753_n.jpg?tp=1&_nc_ht=instagram.fdac27-1.fna.fbcdn.net&_nc_cat=106&_nc_ohc=fBpEfN87I7MAX-IILpN&edm=ABZsPhsBAAAA&ccb=7-4&oh=2286425e48262e8e0bdee3a1f0c91847&oe=60B09C3D&_nc_sid=4efc9f&ig_cache_key=MjU2MjU4MTUyMTE5MjM5Mzc4MA%3D%3D.2-ccb7-4',\n",
       " 'https://instagram.fdac27-1.fna.fbcdn.net/v/t51.2885-15/e35/179997872_208972860750298_2620880210233015480_n.jpg?tp=1&_nc_ht=instagram.fdac27-1.fna.fbcdn.net&_nc_cat=110&_nc_ohc=GeMEixrvfxsAX-7gF1P&edm=ABZsPhsBAAAA&ccb=7-4&oh=951c9bf8d9007e91b111a90e66a448f3&oe=60AFA2F4&_nc_sid=4efc9f&ig_cache_key=MjU2MjU4MTYxNTYwNTQ5NjkwOQ%3D%3D.2-ccb7-4',\n",
       " 'https://instagram.fdac27-1.fna.fbcdn.net/v/t51.2885-15/e35/178645914_480755066570116_871404476442801618_n.jpg?tp=1&_nc_ht=instagram.fdac27-1.fna.fbcdn.net&_nc_cat=104&_nc_ohc=X1AgGTnAR3YAX_H__kK&edm=ABZsPhsBAAAA&ccb=7-4&oh=db7f9dcc4b1ff8b1a83001d1ba6c1f98&oe=60AF032E&_nc_sid=4efc9f&ig_cache_key=MjU2MjU4MTYxNTE0NDIxMzU5OA%3D%3D.2-ccb7-4',\n",
       " 'https://instagram.fdac27-1.fna.fbcdn.net/v/t51.2885-15/e35/178474101_475287937122347_1409782601855140843_n.jpg?tp=1&_nc_ht=instagram.fdac27-1.fna.fbcdn.net&_nc_cat=111&_nc_ohc=ZRpfwzNA5IwAX8udmUJ&edm=ABZsPhsBAAAA&ccb=7-4&oh=45e192addbcd98f6c96c63fdbe0b44ac&oe=60AEA6C1&_nc_sid=4efc9f&ig_cache_key=MjU2MjU4MTQ5NjE0OTkwMjE4Ng%3D%3D.2-ccb7-4',\n",
       " 'https://instagram.fdac27-1.fna.fbcdn.net/v/t51.2885-15/e35/179357369_218570616301304_44257206436960364_n.jpg?tp=1&_nc_ht=instagram.fdac27-1.fna.fbcdn.net&_nc_cat=108&_nc_ohc=oZDt_9u5-ksAX9Wwz52&edm=ABZsPhsBAAAA&ccb=7-4&oh=078dd080f8c3f9fe3a33f49003b9c9cb&oe=60B015B1&_nc_sid=4efc9f&ig_cache_key=MjU2MjU4MTYwNjk0OTU5MDc2OA%3D%3D.2-ccb7-4',\n",
       " 'https://instagram.fdac27-1.fna.fbcdn.net/v/t51.2885-15/e35/178940620_315653760179271_2315142695935155622_n.jpg?tp=1&_nc_ht=instagram.fdac27-1.fna.fbcdn.net&_nc_cat=103&_nc_ohc=Gg6YSqjStO8AX8RLfwA&edm=ABZsPhsBAAAA&ccb=7-4&oh=830374be17ae32e44f0d873658a044d3&oe=60AE5F36&_nc_sid=4efc9f&ig_cache_key=MjU2MjU4MTYwMzI5NzkwMDkxOQ%3D%3D.2-ccb7-4',\n",
       " 'https://instagram.fdac27-1.fna.fbcdn.net/v/t51.2885-15/e35/c0.80.640.640a/173612444_144975250922773_7448491725890158512_n.jpg?tp=1&_nc_ht=instagram.fdac27-1.fna.fbcdn.net&_nc_cat=101&_nc_ohc=ZzGQbPhmzuQAX_Mg8xF&edm=ABZsPhsBAAAA&ccb=7-4&oh=6802ec061b48f80b9b26d3a7f906cbde&oe=60B178C3&_nc_sid=4efc9f&ig_cache_key=MjU2MjU4MDc1NzQ3NTA1NjI0Nw%3D%3D.2-ccb7-4',\n",
       " 'https://instagram.fdac27-1.fna.fbcdn.net/v/t51.2885-15/e35/178513190_933031484111999_6742714168312911696_n.jpg?tp=1&_nc_ht=instagram.fdac27-1.fna.fbcdn.net&_nc_cat=111&_nc_ohc=ImJ8VtWmAZ4AX_AaU7Y&edm=ABZsPhsBAAAA&ccb=7-4&oh=7148c1e4c9423f7ebf5e52808f6b25f0&oe=60AF0317&_nc_sid=4efc9f&ig_cache_key=MjU2MjU4MTU2OTAzMjA5NjM0Mw%3D%3D.2-ccb7-4',\n",
       " 'https://instagram.fdac27-1.fna.fbcdn.net/v/t51.2885-15/e35/179742701_2927181934201992_3287045358356293802_n.jpg?tp=1&_nc_ht=instagram.fdac27-1.fna.fbcdn.net&_nc_cat=100&_nc_ohc=gauLMm3T0bsAX8BbptJ&edm=ABZsPhsBAAAA&ccb=7-4&oh=a927be496c416ef711e9a3df5ea8454d&oe=60B166CD&_nc_sid=4efc9f&ig_cache_key=MjU2MjU4MTU2MzgwNTk2MzU3NA%3D%3D.2-ccb7-4',\n",
       " 'https://instagram.fdac27-1.fna.fbcdn.net/v/t51.2885-15/e35/179290549_4687780994581910_3613389069679603260_n.jpg?tp=1&_nc_ht=instagram.fdac27-1.fna.fbcdn.net&_nc_cat=102&_nc_ohc=VUEc5U_gCj0AX8HJ9Px&edm=ABZsPhsBAAAA&ccb=7-4&oh=ca1bff0f1f3c046d0c77128ecd557ecb&oe=60AF2171&_nc_sid=4efc9f&ig_cache_key=MjU2MjU4MDk2OTk1MTI4Njc0MA%3D%3D.2-ccb7-4',\n",
       " 'https://instagram.fdac27-1.fna.fbcdn.net/v/t51.2885-15/e35/c90.0.541.541a/179052316_494211401620173_3786543599468291756_n.jpg?tp=1&_nc_ht=instagram.fdac27-1.fna.fbcdn.net&_nc_cat=109&_nc_ohc=-KFS9LoPe9sAX8IZ7kT&edm=ABZsPhsBAAAA&ccb=7-4&oh=839b9715f200d4e21ddb7b702bfa5797&oe=60B173DA&_nc_sid=4efc9f&ig_cache_key=MjU2MjU4MTU2NDg3MTgyOTA5Mw%3D%3D.2-ccb7-4',\n",
       " 'https://instagram.fdac27-1.fna.fbcdn.net/v/t51.2885-15/e35/179905843_212324287022126_1439782807466295584_n.jpg?tp=1&_nc_ht=instagram.fdac27-1.fna.fbcdn.net&_nc_cat=102&_nc_ohc=VtFxvaVKdN0AX_nen0x&tn=rtFAbkPrxsThLJin&edm=ABZsPhsBAAAA&ccb=7-4&oh=a5d70b822e68e36b76a2c0c0b17f580c&oe=60B1156B&_nc_sid=4efc9f&ig_cache_key=MjU2MjU4MTU1MTAyODExNzUyMA%3D%3D.2-ccb7-4',\n",
       " 'https://instagram.fdac27-1.fna.fbcdn.net/v/t51.2885-15/fr/e15/p1080x1080/178680270_1853279831499059_8270368239445972092_n.jpg?tp=1&_nc_ht=instagram.fdac27-1.fna.fbcdn.net&_nc_cat=111&_nc_ohc=kZSburQpQzQAX_OCJyj&edm=ABZsPhsBAAAA&ccb=7-4&oh=9aa1b0d8cc33282bb7b0d08948886fb2&oe=60AFA47F&_nc_sid=4efc9f&ig_cache_key=MjU2MjU4MTU1MTc1OTI2ODI0Ng%3D%3D.2-ccb7-4',\n",
       " 'https://instagram.fdac27-1.fna.fbcdn.net/v/t51.2885-15/e35/178505862_244269910718926_6808215609837996022_n.jpg?tp=1&_nc_ht=instagram.fdac27-1.fna.fbcdn.net&_nc_cat=110&_nc_ohc=ujfjWtPo1koAX_9SYXg&edm=ABZsPhsBAAAA&ccb=7-4&oh=13a0563808525a7d57dcd7b374df81b2&oe=60AEA12F&_nc_sid=4efc9f&ig_cache_key=MjU2MjU4MTU0NzkzNTExNDUxNg%3D%3D.2-ccb7-4',\n",
       " 'https://instagram.fdac27-1.fna.fbcdn.net/v/t51.2885-15/e35/178502510_506915900493139_2214285829195497618_n.jpg?tp=1&_nc_ht=instagram.fdac27-1.fna.fbcdn.net&_nc_cat=107&_nc_ohc=T9K-UqWBJeIAX8JQceQ&edm=ABZsPhsBAAAA&ccb=7-4&oh=59b9d236862748595bfe39c5f5cbd322&oe=60B009B0&_nc_sid=4efc9f&ig_cache_key=MjU2MjU4MTU0MzA5Mjg3MDgwMQ%3D%3D.2-ccb7-4',\n",
       " 'https://instagram.fdac27-1.fna.fbcdn.net/v/t51.2885-15/e35/178712936_2279124432219407_2202938037685831351_n.jpg?tp=1&_nc_ht=instagram.fdac27-1.fna.fbcdn.net&_nc_cat=111&_nc_ohc=N2BaulB6wHAAX-Rgepn&edm=ABZsPhsBAAAA&ccb=7-4&oh=005594ae700961215523f340b7e6230b&oe=60AF4F00&_nc_sid=4efc9f&ig_cache_key=MjU2MjU4MTUxNjUxOTg1MTMwNA%3D%3D.2-ccb7-4',\n",
       " 'https://instagram.fdac27-1.fna.fbcdn.net/v/t51.2885-15/e35/175769143_113241104212575_8580403926989957352_n.jpg?tp=1&_nc_ht=instagram.fdac27-1.fna.fbcdn.net&_nc_cat=103&_nc_ohc=iqqmol3cHt8AX94CGGr&edm=ABZsPhsBAAAA&ccb=7-4&oh=ff50dc2f9bd0a33e5111312580751ae3&oe=60B1D36E&_nc_sid=4efc9f&ig_cache_key=MjU2MjU4MTI4OTIxMTcyMTE4MA%3D%3D.2-ccb7-4',\n",
       " 'https://instagram.fdac27-1.fna.fbcdn.net/v/t51.2885-15/e35/c0.60.480.480a/178924564_926997618151545_1321747045484480324_n.jpg?tp=1&_nc_ht=instagram.fdac27-1.fna.fbcdn.net&_nc_cat=109&_nc_ohc=-U68gwcAMgIAX8CFLUx&edm=ABZsPhsBAAAA&ccb=7-4&oh=38ce6dee3ea7e86bf4f14099c9728e3a&oe=60B09E02&_nc_sid=4efc9f&ig_cache_key=MjU2MjU4MDY0ODIzMjM5OTg3Nw%3D%3D.2-ccb7-4',\n",
       " 'https://instagram.fdac27-1.fna.fbcdn.net/v/t51.2885-15/e35/178847365_317342889752224_3022626721975127784_n.jpg?tp=1&_nc_ht=instagram.fdac27-1.fna.fbcdn.net&_nc_cat=104&_nc_ohc=lVLTW6pmdysAX-KsEbO&edm=ABZsPhsBAAAA&ccb=7-4&oh=11d550941aafa712a761b66d05281a91&oe=60B11866&_nc_sid=4efc9f&ig_cache_key=MjU2MjU3MzA2NDc1Mjg3ODQ5OQ%3D%3D.2-ccb7-4',\n",
       " 'https://instagram.fdac27-1.fna.fbcdn.net/v/t51.2885-15/e35/175108338_3868412229920473_442060443091802364_n.jpg?tp=1&_nc_ht=instagram.fdac27-1.fna.fbcdn.net&_nc_cat=101&_nc_ohc=dnlwDiNwSTgAX-j-h4f&edm=ABZsPhsBAAAA&ccb=7-4&oh=4b09194e5a20c7e61410612bf08c7e90&oe=60AFE4DA&_nc_sid=4efc9f&ig_cache_key=MjU1NTMxMzM4NzE2Mjg1NzI1OQ%3D%3D.2-ccb7-4',\n",
       " 'https://instagram.fdac27-1.fna.fbcdn.net/v/t51.2885-15/e35/179945956_449799092787836_9155341550449588094_n.jpg?tp=1&_nc_ht=instagram.fdac27-1.fna.fbcdn.net&_nc_cat=108&_nc_ohc=D8Kj4B9sXEEAX-sLAuB&edm=AMKDjl4BAAAA&ccb=7-4&oh=1e50c92f155f011752ffc9ead9b7e805&oe=60B188B0&_nc_sid=1fe099&ig_cache_key=MjU2MjU4MTUxMDMxMzE5MjQxNg%3D%3D.2-ccb7-4',\n",
       " 'https://instagram.fdac27-1.fna.fbcdn.net/v/t51.2885-15/e35/c0.80.640.640a/178936735_406590050644452_5559434546130727468_n.jpg?tp=1&_nc_ht=instagram.fdac27-1.fna.fbcdn.net&_nc_cat=100&_nc_ohc=idRLimksB7wAX_yqy5Z&edm=AMKDjl4BAAAA&ccb=7-4&oh=94b552fdf19910d997cb3a93be98b36f&oe=60AF471E&_nc_sid=1fe099&ig_cache_key=MjU2MjU4MTM3NTY3NTA0Mjk1Nw%3D%3D.2-ccb7-4',\n",
       " 'https://instagram.fdac27-1.fna.fbcdn.net/v/t51.2885-15/e35/179030251_130792715700056_5766976479557164649_n.jpg?tp=1&_nc_ht=instagram.fdac27-1.fna.fbcdn.net&_nc_cat=108&_nc_ohc=_JrRcN3RHXgAX90e2eg&edm=AMKDjl4BAAAA&ccb=7-4&oh=1fc86a1b01d274528d15f26942b0a778&oe=60B00539&_nc_sid=1fe099&ig_cache_key=MjU2MjU3ODAzMjI0NDQ4NDc2Ng%3D%3D.2-ccb7-4',\n",
       " 'https://instagram.fdac27-1.fna.fbcdn.net/v/t51.2885-15/e35/178487047_782430089140981_2019218427402972854_n.jpg?tp=1&_nc_ht=instagram.fdac27-1.fna.fbcdn.net&_nc_cat=101&_nc_ohc=UqXPEaWGDBUAX9stD9f&edm=AMKDjl4BAAAA&ccb=7-4&oh=7a751740193f512ed483b42e22afc67e&oe=60AEE39C&_nc_sid=1fe099&ig_cache_key=MjU2MjU4MTUwODQxNzMyMTc2NQ%3D%3D.2-ccb7-4',\n",
       " 'https://instagram.fdac27-1.fna.fbcdn.net/v/t51.2885-15/e35/c0.44.720.720a/178227496_300292051772898_6280967530772914713_n.jpg?tp=1&_nc_ht=instagram.fdac27-1.fna.fbcdn.net&_nc_cat=106&_nc_ohc=DdowDfeim-cAX_LVpID&edm=AMKDjl4BAAAA&ccb=7-4&oh=56a9df2bbc0cabad7722f327d880a722&oe=60AE5B94&_nc_sid=1fe099&ig_cache_key=MjU2MjU4MTQ5Nzk0NzQ1MTE2Ng%3D%3D.2-ccb7-4',\n",
       " 'https://instagram.fdac27-1.fna.fbcdn.net/v/t51.2885-15/e35/c0.90.720.720a/178140203_1816499425194714_4776379444519293301_n.jpg?tp=1&_nc_ht=instagram.fdac27-1.fna.fbcdn.net&_nc_cat=106&_nc_ohc=m5MBJS6m5QgAX8DemeW&edm=AMKDjl4BAAAA&ccb=7-4&oh=4f143ed3767502aa3825a1e00890876e&oe=60B182AC&_nc_sid=1fe099&ig_cache_key=MjU2MjU4MDk2OTUwNjY4MDAyNg%3D%3D.2-ccb7-4',\n",
       " 'https://instagram.fdac27-1.fna.fbcdn.net/v/t51.2885-15/e35/178478330_2796804083904481_2486684518174749876_n.jpg?tp=1&_nc_ht=instagram.fdac27-1.fna.fbcdn.net&_nc_cat=101&_nc_ohc=vglV4Pt4mT0AX9b-Du5&edm=AMKDjl4BAAAA&ccb=7-4&oh=385f7db04665438fc900a211e2f3f1bd&oe=60B07820&_nc_sid=1fe099&ig_cache_key=MjU2MjU4MTUwMDk2NjM3MjQ0NA%3D%3D.2-ccb7-4',\n",
       " 'https://instagram.fdac27-1.fna.fbcdn.net/v/t51.2885-15/e35/173947681_126309329557707_4607381793108142459_n.jpg?tp=1&_nc_ht=instagram.fdac27-1.fna.fbcdn.net&_nc_cat=103&_nc_ohc=ajtb9QyODEQAX_f1f5f&edm=AMKDjl4BAAAA&ccb=7-4&oh=5a2afe8408bfb3dff9a50cc15d936427&oe=60B16A34&_nc_sid=1fe099&ig_cache_key=MjU2MjU4MTUwMTIwMjk3MDYwOA%3D%3D.2-ccb7-4',\n",
       " 'https://instagram.fdac27-1.fna.fbcdn.net/v/t51.2885-15/e35/178967067_977778132962394_910742862107200494_n.jpg?tp=1&_nc_ht=instagram.fdac27-1.fna.fbcdn.net&_nc_cat=106&_nc_ohc=1J4zjgVZNvsAX8zOZ6O&edm=AMKDjl4BAAAA&ccb=7-4&oh=bad6b5f2683d5d487bcfa11f207254dc&oe=60AEC8AA&_nc_sid=1fe099&ig_cache_key=MjU2MjU4MTQ5MTgzODk1MjY4OQ%3D%3D.2-ccb7-4',\n",
       " 'https://instagram.fdac27-1.fna.fbcdn.net/v/t51.2885-15/e35/179525618_100508785510279_1357262554910796920_n.jpg?tp=1&_nc_ht=instagram.fdac27-1.fna.fbcdn.net&_nc_cat=107&_nc_ohc=cFhN-9oy9h4AX9cB9Jb&edm=AMKDjl4BAAAA&ccb=7-4&oh=9492967a93db2fc8cf995ca6a432316c&oe=60B1050F&_nc_sid=1fe099&ig_cache_key=MjU2MjU4MTQ4Njg0NzIyODk1Nw%3D%3D.2-ccb7-4',\n",
       " 'https://instagram.fdac27-1.fna.fbcdn.net/v/t51.2885-15/e35/178731467_485471582596568_8895728429962517991_n.jpg?tp=1&_nc_ht=instagram.fdac27-1.fna.fbcdn.net&_nc_cat=108&_nc_ohc=Md1Betk8d2gAX-n91-y&edm=AMKDjl4BAAAA&ccb=7-4&oh=6df2b34e0f4a5df8975041222230b891&oe=60AECF2F&_nc_sid=1fe099&ig_cache_key=MjU2MjU4MTQ4NDcwMTg5MDQzOA%3D%3D.2-ccb7-4',\n",
       " 'https://instagram.fdac27-1.fna.fbcdn.net/v/t51.2885-15/e35/178618234_479714056813889_8258583803776198164_n.jpg?tp=1&_nc_ht=instagram.fdac27-1.fna.fbcdn.net&_nc_cat=105&_nc_ohc=Dh6EQKzLkRYAX9uqUrf&edm=AMKDjl4BAAAA&ccb=7-4&oh=99b685ecf08730812e90c7e98164b2a1&oe=60AE58DA&_nc_sid=1fe099&ig_cache_key=MjU2MjU4MTQ4MTgxNjE2MzczNg%3D%3D.2-ccb7-4',\n",
       " 'https://instagram.fdac27-1.fna.fbcdn.net/v/t51.2885-15/e35/179322165_458168235258350_8274294552142901054_n.jpg?tp=1&_nc_ht=instagram.fdac27-1.fna.fbcdn.net&_nc_cat=102&_nc_ohc=Jt-JPpMvR0EAX_pqtOh&edm=AMKDjl4BAAAA&ccb=7-4&oh=cecf3ed8158e8a6cab53fc663ebf80f8&oe=60AF15B4&_nc_sid=1fe099&ig_cache_key=MjU2MjU4MTQ4NTA3Nzg3MzEyNQ%3D%3D.2-ccb7-4',\n",
       " 'https://instagram.fdac27-1.fna.fbcdn.net/v/t51.2885-15/e35/179551949_219842389480932_3109203646896895253_n.jpg?tp=1&_nc_ht=instagram.fdac27-1.fna.fbcdn.net&_nc_cat=100&_nc_ohc=X7sv5FA4rHgAX97V0o1&edm=AMKDjl4BAAAA&ccb=7-4&oh=29e61daa3b01f1e80575cce933144687&oe=60AE86EF&_nc_sid=1fe099&ig_cache_key=MjU2MjU4MTQ4MDI2MjE4NDMwNw%3D%3D.2-ccb7-4',\n",
       " 'https://instagram.fdac27-1.fna.fbcdn.net/v/t51.2885-15/e35/179464517_1127429954391392_1848878713788013273_n.jpg?tp=1&_nc_ht=instagram.fdac27-1.fna.fbcdn.net&_nc_cat=108&_nc_ohc=JQ4Wiqu3rhAAX_qshIG&edm=AMKDjl4BAAAA&ccb=7-4&oh=6c526055581290cd001d48550d41c551&oe=60B0B8A3&_nc_sid=1fe099&ig_cache_key=MjU2MjU4MTQ0ODczNzg0MjMwNw%3D%3D.2-ccb7-4',\n",
       " 'https://instagram.fdac27-1.fna.fbcdn.net/v/t51.2885-15/e35/178465582_285791189855259_7656167999944307758_n.jpg?tp=1&_nc_ht=instagram.fdac27-1.fna.fbcdn.net&_nc_cat=103&_nc_ohc=A7AMOl_lgnkAX-BaGl6&edm=AMKDjl4BAAAA&ccb=7-4&oh=27605123c2f7811d147053db7badda4a&oe=60B088E4&_nc_sid=1fe099&ig_cache_key=MjU2MjU3ODI2MDA5NTE5Mzk3NA%3D%3D.2-ccb7-4',\n",
       " 'https://instagram.fdac27-1.fna.fbcdn.net/v/t51.2885-15/fr/e15/s1080x1080/176986352_310681610421929_2003294851663664758_n.jpg?tp=1&_nc_ht=instagram.fdac27-1.fna.fbcdn.net&_nc_cat=105&_nc_ohc=raZtIOgp5rQAX9K0AGl&edm=AMKDjl4BAAAA&ccb=7-4&oh=8ccda14a0eb9e90b8237064dee5e573c&oe=60AFFABF&_nc_sid=1fe099&ig_cache_key=MjU2MjU4MTQ1MDI5MDc2MDAxNA%3D%3D.2-ccb7-4',\n",
       " 'https://instagram.fdac27-1.fna.fbcdn.net/v/t51.2885-15/e35/c0.37.719.719a/179285058_1124889621329825_1379733330093730230_n.jpg?tp=1&_nc_ht=instagram.fdac27-1.fna.fbcdn.net&_nc_cat=105&_nc_ohc=ArqUlt1SPTAAX8Pptkj&edm=AMKDjl4BAAAA&ccb=7-4&oh=8ce56c707f744436f924e5bac1f3d339&oe=60B12C69&_nc_sid=1fe099&ig_cache_key=MjU2MjU4MTQ1MTYzMTc5ODYyMQ%3D%3D.2-ccb7-4',\n",
       " 'https://www.instagram.com/static/images/web/mobile_nav_type_logo.png/735145cfe0a4.png',\n",
       " 'https://instagram.fmsq1-1.fna.fbcdn.net/v/t51.2885-19/44884218_345707102882519_2446069589734326272_n.jpg?_nc_ht=instagram.fmsq1-1.fna.fbcdn.net&_nc_ohc=KFOCQcdfOBoAX-EIRyI&edm=AJ9x6zYBAAAA&ccb=7-4&oh=b6e5416c1c0693dd674bc8a62bb7cdf7&oe=60B1C54F&_nc_sid=cff2a4&ig_cache_key=YW5vbnltb3VzX3Byb2ZpbGVfcGlj.2-ccb7-4']"
      ]
     },
     "execution_count": 29,
     "metadata": {},
     "output_type": "execute_result"
    }
   ],
   "source": [
    "images = [image.get_attribute('src') for image in images]"
   ]
  },
  {
   "cell_type": "code",
   "execution_count": 30,
   "metadata": {
    "collapsed": true
   },
   "outputs": [
    {
     "data": {
      "text/plain": [
       "'/home/tareq/Desktop/webscraping/selenium/Untitled Folder/cats'"
      ]
     },
     "execution_count": 30,
     "metadata": {},
     "output_type": "execute_result"
    }
   ],
   "source": [
    "path = os.getcwd()\n",
    "path = os.path.join(path, keyword[1:]+\"s\")\n",
    "\n",
    "os.mkdir(path)\n",
    "path"
   ]
  },
  {
   "cell_type": "code",
   "execution_count": 31,
   "metadata": {
    "collapsed": true
   },
   "outputs": [],
   "source": [
    "c = 0\n",
    "for image in images:\n",
    "    save_as = os.path.join(path, keyword[1:]+str(c)+'.jpg')\n",
    "    wget.download(image, save_as)\n",
    "    c += 1"
   ]
  }
 ],
 "metadata": {
  "kernelspec": {
   "display_name": "Python 3",
   "language": "python",
   "name": "python3"
  },
  "language_info": {
   "codemirror_mode": {
    "name": "ipython",
    "version": 3
   },
   "file_extension": ".py",
   "mimetype": "text/x-python",
   "name": "python",
   "nbconvert_exporter": "python",
   "pygments_lexer": "ipython3",
   "version": "3.8.5"
  }
 },
 "nbformat": 4,
 "nbformat_minor": 4
}
